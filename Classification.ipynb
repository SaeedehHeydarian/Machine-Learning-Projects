{
 "cells": [
  {
   "cell_type": "code",
   "execution_count": 171,
   "id": "64c63f14",
   "metadata": {},
   "outputs": [],
   "source": [
    "import pandas as pd\n",
    "import numpy as np\n",
    "import seaborn as sns\n",
    "import matplotlib.pyplot as plt\n",
    "import scipy \n",
    "from sklearn.preprocessing import StandardScaler , OneHotEncoder , MinMaxScaler , OrdinalEncoder\n",
    "from sklearn.compose import ColumnTransformer\n",
    "from sklearn.model_selection import train_test_split\n",
    "from sklearn.metrics import precision_score , recall_score , f1_score , accuracy_score\n",
    "from sklearn.model_selection import cross_val_predict , GridSearchCV\n",
    "from sklearn.neighbors import KNeighborsClassifier\n",
    "from sklearn.tree import DecisionTreeClassifier\n",
    "from sklearn.linear_model import LogisticRegression\n",
    "from sklearn.svm import SVC\n",
    "from sklearn.metrics import classification_report , confusion_matrix \n",
    "from sklearn.metrics import ConfusionMatrixDisplay\n",
    "import warnings\n",
    "warnings.filterwarnings(\"ignore\")\n",
    "import itertools    \n",
    "from sklearn.feature_selection import SelectKBest , f_regression "
   ]
  },
  {
   "cell_type": "code",
   "execution_count": 172,
   "id": "add5f0a2",
   "metadata": {},
   "outputs": [],
   "source": [
    "dataset=pd.read_csv(r\"heart.csv\")"
   ]
  },
  {
   "cell_type": "code",
   "execution_count": 173,
   "id": "86a1f6fe",
   "metadata": {},
   "outputs": [
    {
     "data": {
      "text/html": [
       "<div>\n",
       "<style scoped>\n",
       "    .dataframe tbody tr th:only-of-type {\n",
       "        vertical-align: middle;\n",
       "    }\n",
       "\n",
       "    .dataframe tbody tr th {\n",
       "        vertical-align: top;\n",
       "    }\n",
       "\n",
       "    .dataframe thead th {\n",
       "        text-align: right;\n",
       "    }\n",
       "</style>\n",
       "<table border=\"1\" class=\"dataframe\">\n",
       "  <thead>\n",
       "    <tr style=\"text-align: right;\">\n",
       "      <th></th>\n",
       "      <th>age</th>\n",
       "      <th>sex</th>\n",
       "      <th>cp</th>\n",
       "      <th>trtbps</th>\n",
       "      <th>chol</th>\n",
       "      <th>fbs</th>\n",
       "      <th>restecg</th>\n",
       "      <th>thalachh</th>\n",
       "      <th>exng</th>\n",
       "      <th>oldpeak</th>\n",
       "      <th>slp</th>\n",
       "      <th>caa</th>\n",
       "      <th>thall</th>\n",
       "      <th>output</th>\n",
       "    </tr>\n",
       "  </thead>\n",
       "  <tbody>\n",
       "    <tr>\n",
       "      <th>0</th>\n",
       "      <td>63</td>\n",
       "      <td>1</td>\n",
       "      <td>3</td>\n",
       "      <td>145</td>\n",
       "      <td>233</td>\n",
       "      <td>1</td>\n",
       "      <td>0</td>\n",
       "      <td>150</td>\n",
       "      <td>0</td>\n",
       "      <td>2.3</td>\n",
       "      <td>0</td>\n",
       "      <td>0</td>\n",
       "      <td>1</td>\n",
       "      <td>1</td>\n",
       "    </tr>\n",
       "    <tr>\n",
       "      <th>1</th>\n",
       "      <td>37</td>\n",
       "      <td>1</td>\n",
       "      <td>2</td>\n",
       "      <td>130</td>\n",
       "      <td>250</td>\n",
       "      <td>0</td>\n",
       "      <td>1</td>\n",
       "      <td>187</td>\n",
       "      <td>0</td>\n",
       "      <td>3.5</td>\n",
       "      <td>0</td>\n",
       "      <td>0</td>\n",
       "      <td>2</td>\n",
       "      <td>1</td>\n",
       "    </tr>\n",
       "    <tr>\n",
       "      <th>2</th>\n",
       "      <td>41</td>\n",
       "      <td>0</td>\n",
       "      <td>1</td>\n",
       "      <td>130</td>\n",
       "      <td>204</td>\n",
       "      <td>0</td>\n",
       "      <td>0</td>\n",
       "      <td>172</td>\n",
       "      <td>0</td>\n",
       "      <td>1.4</td>\n",
       "      <td>2</td>\n",
       "      <td>0</td>\n",
       "      <td>2</td>\n",
       "      <td>1</td>\n",
       "    </tr>\n",
       "    <tr>\n",
       "      <th>3</th>\n",
       "      <td>56</td>\n",
       "      <td>1</td>\n",
       "      <td>1</td>\n",
       "      <td>120</td>\n",
       "      <td>236</td>\n",
       "      <td>0</td>\n",
       "      <td>1</td>\n",
       "      <td>178</td>\n",
       "      <td>0</td>\n",
       "      <td>0.8</td>\n",
       "      <td>2</td>\n",
       "      <td>0</td>\n",
       "      <td>2</td>\n",
       "      <td>1</td>\n",
       "    </tr>\n",
       "    <tr>\n",
       "      <th>4</th>\n",
       "      <td>57</td>\n",
       "      <td>0</td>\n",
       "      <td>0</td>\n",
       "      <td>120</td>\n",
       "      <td>354</td>\n",
       "      <td>0</td>\n",
       "      <td>1</td>\n",
       "      <td>163</td>\n",
       "      <td>1</td>\n",
       "      <td>0.6</td>\n",
       "      <td>2</td>\n",
       "      <td>0</td>\n",
       "      <td>2</td>\n",
       "      <td>1</td>\n",
       "    </tr>\n",
       "  </tbody>\n",
       "</table>\n",
       "</div>"
      ],
      "text/plain": [
       "   age  sex  cp  trtbps  chol  fbs  restecg  thalachh  exng  oldpeak  slp  \\\n",
       "0   63    1   3     145   233    1        0       150     0      2.3    0   \n",
       "1   37    1   2     130   250    0        1       187     0      3.5    0   \n",
       "2   41    0   1     130   204    0        0       172     0      1.4    2   \n",
       "3   56    1   1     120   236    0        1       178     0      0.8    2   \n",
       "4   57    0   0     120   354    0        1       163     1      0.6    2   \n",
       "\n",
       "   caa  thall  output  \n",
       "0    0      1       1  \n",
       "1    0      2       1  \n",
       "2    0      2       1  \n",
       "3    0      2       1  \n",
       "4    0      2       1  "
      ]
     },
     "execution_count": 173,
     "metadata": {},
     "output_type": "execute_result"
    }
   ],
   "source": [
    "dataset.head()"
   ]
  },
  {
   "cell_type": "code",
   "execution_count": 174,
   "id": "33a1a066",
   "metadata": {},
   "outputs": [
    {
     "name": "stdout",
     "output_type": "stream",
     "text": [
      "<class 'pandas.core.frame.DataFrame'>\n",
      "RangeIndex: 303 entries, 0 to 302\n",
      "Data columns (total 14 columns):\n",
      " #   Column    Non-Null Count  Dtype  \n",
      "---  ------    --------------  -----  \n",
      " 0   age       303 non-null    int64  \n",
      " 1   sex       303 non-null    int64  \n",
      " 2   cp        303 non-null    int64  \n",
      " 3   trtbps    303 non-null    int64  \n",
      " 4   chol      303 non-null    int64  \n",
      " 5   fbs       303 non-null    int64  \n",
      " 6   restecg   303 non-null    int64  \n",
      " 7   thalachh  303 non-null    int64  \n",
      " 8   exng      303 non-null    int64  \n",
      " 9   oldpeak   303 non-null    float64\n",
      " 10  slp       303 non-null    int64  \n",
      " 11  caa       303 non-null    int64  \n",
      " 12  thall     303 non-null    int64  \n",
      " 13  output    303 non-null    int64  \n",
      "dtypes: float64(1), int64(13)\n",
      "memory usage: 33.3 KB\n"
     ]
    }
   ],
   "source": [
    "dataset.info()\n",
    "# there is not null value"
   ]
  },
  {
   "cell_type": "code",
   "execution_count": 175,
   "id": "aa6afca4",
   "metadata": {},
   "outputs": [
    {
     "data": {
      "text/html": [
       "<div>\n",
       "<style scoped>\n",
       "    .dataframe tbody tr th:only-of-type {\n",
       "        vertical-align: middle;\n",
       "    }\n",
       "\n",
       "    .dataframe tbody tr th {\n",
       "        vertical-align: top;\n",
       "    }\n",
       "\n",
       "    .dataframe thead th {\n",
       "        text-align: right;\n",
       "    }\n",
       "</style>\n",
       "<table border=\"1\" class=\"dataframe\">\n",
       "  <thead>\n",
       "    <tr style=\"text-align: right;\">\n",
       "      <th></th>\n",
       "      <th>count</th>\n",
       "      <th>mean</th>\n",
       "      <th>std</th>\n",
       "      <th>min</th>\n",
       "      <th>25%</th>\n",
       "      <th>50%</th>\n",
       "      <th>75%</th>\n",
       "      <th>max</th>\n",
       "    </tr>\n",
       "  </thead>\n",
       "  <tbody>\n",
       "    <tr>\n",
       "      <th>age</th>\n",
       "      <td>303.0</td>\n",
       "      <td>54.37</td>\n",
       "      <td>9.08</td>\n",
       "      <td>29.0</td>\n",
       "      <td>47.5</td>\n",
       "      <td>55.0</td>\n",
       "      <td>61.0</td>\n",
       "      <td>77.0</td>\n",
       "    </tr>\n",
       "    <tr>\n",
       "      <th>sex</th>\n",
       "      <td>303.0</td>\n",
       "      <td>0.68</td>\n",
       "      <td>0.47</td>\n",
       "      <td>0.0</td>\n",
       "      <td>0.0</td>\n",
       "      <td>1.0</td>\n",
       "      <td>1.0</td>\n",
       "      <td>1.0</td>\n",
       "    </tr>\n",
       "    <tr>\n",
       "      <th>cp</th>\n",
       "      <td>303.0</td>\n",
       "      <td>0.97</td>\n",
       "      <td>1.03</td>\n",
       "      <td>0.0</td>\n",
       "      <td>0.0</td>\n",
       "      <td>1.0</td>\n",
       "      <td>2.0</td>\n",
       "      <td>3.0</td>\n",
       "    </tr>\n",
       "    <tr>\n",
       "      <th>trtbps</th>\n",
       "      <td>303.0</td>\n",
       "      <td>131.62</td>\n",
       "      <td>17.54</td>\n",
       "      <td>94.0</td>\n",
       "      <td>120.0</td>\n",
       "      <td>130.0</td>\n",
       "      <td>140.0</td>\n",
       "      <td>200.0</td>\n",
       "    </tr>\n",
       "    <tr>\n",
       "      <th>chol</th>\n",
       "      <td>303.0</td>\n",
       "      <td>246.26</td>\n",
       "      <td>51.83</td>\n",
       "      <td>126.0</td>\n",
       "      <td>211.0</td>\n",
       "      <td>240.0</td>\n",
       "      <td>274.5</td>\n",
       "      <td>564.0</td>\n",
       "    </tr>\n",
       "    <tr>\n",
       "      <th>fbs</th>\n",
       "      <td>303.0</td>\n",
       "      <td>0.15</td>\n",
       "      <td>0.36</td>\n",
       "      <td>0.0</td>\n",
       "      <td>0.0</td>\n",
       "      <td>0.0</td>\n",
       "      <td>0.0</td>\n",
       "      <td>1.0</td>\n",
       "    </tr>\n",
       "    <tr>\n",
       "      <th>restecg</th>\n",
       "      <td>303.0</td>\n",
       "      <td>0.53</td>\n",
       "      <td>0.53</td>\n",
       "      <td>0.0</td>\n",
       "      <td>0.0</td>\n",
       "      <td>1.0</td>\n",
       "      <td>1.0</td>\n",
       "      <td>2.0</td>\n",
       "    </tr>\n",
       "    <tr>\n",
       "      <th>thalachh</th>\n",
       "      <td>303.0</td>\n",
       "      <td>149.65</td>\n",
       "      <td>22.91</td>\n",
       "      <td>71.0</td>\n",
       "      <td>133.5</td>\n",
       "      <td>153.0</td>\n",
       "      <td>166.0</td>\n",
       "      <td>202.0</td>\n",
       "    </tr>\n",
       "    <tr>\n",
       "      <th>exng</th>\n",
       "      <td>303.0</td>\n",
       "      <td>0.33</td>\n",
       "      <td>0.47</td>\n",
       "      <td>0.0</td>\n",
       "      <td>0.0</td>\n",
       "      <td>0.0</td>\n",
       "      <td>1.0</td>\n",
       "      <td>1.0</td>\n",
       "    </tr>\n",
       "    <tr>\n",
       "      <th>oldpeak</th>\n",
       "      <td>303.0</td>\n",
       "      <td>1.04</td>\n",
       "      <td>1.16</td>\n",
       "      <td>0.0</td>\n",
       "      <td>0.0</td>\n",
       "      <td>0.8</td>\n",
       "      <td>1.6</td>\n",
       "      <td>6.2</td>\n",
       "    </tr>\n",
       "    <tr>\n",
       "      <th>slp</th>\n",
       "      <td>303.0</td>\n",
       "      <td>1.40</td>\n",
       "      <td>0.62</td>\n",
       "      <td>0.0</td>\n",
       "      <td>1.0</td>\n",
       "      <td>1.0</td>\n",
       "      <td>2.0</td>\n",
       "      <td>2.0</td>\n",
       "    </tr>\n",
       "    <tr>\n",
       "      <th>caa</th>\n",
       "      <td>303.0</td>\n",
       "      <td>0.73</td>\n",
       "      <td>1.02</td>\n",
       "      <td>0.0</td>\n",
       "      <td>0.0</td>\n",
       "      <td>0.0</td>\n",
       "      <td>1.0</td>\n",
       "      <td>4.0</td>\n",
       "    </tr>\n",
       "    <tr>\n",
       "      <th>thall</th>\n",
       "      <td>303.0</td>\n",
       "      <td>2.31</td>\n",
       "      <td>0.61</td>\n",
       "      <td>0.0</td>\n",
       "      <td>2.0</td>\n",
       "      <td>2.0</td>\n",
       "      <td>3.0</td>\n",
       "      <td>3.0</td>\n",
       "    </tr>\n",
       "    <tr>\n",
       "      <th>output</th>\n",
       "      <td>303.0</td>\n",
       "      <td>0.54</td>\n",
       "      <td>0.50</td>\n",
       "      <td>0.0</td>\n",
       "      <td>0.0</td>\n",
       "      <td>1.0</td>\n",
       "      <td>1.0</td>\n",
       "      <td>1.0</td>\n",
       "    </tr>\n",
       "  </tbody>\n",
       "</table>\n",
       "</div>"
      ],
      "text/plain": [
       "          count    mean    std    min    25%    50%    75%    max\n",
       "age       303.0   54.37   9.08   29.0   47.5   55.0   61.0   77.0\n",
       "sex       303.0    0.68   0.47    0.0    0.0    1.0    1.0    1.0\n",
       "cp        303.0    0.97   1.03    0.0    0.0    1.0    2.0    3.0\n",
       "trtbps    303.0  131.62  17.54   94.0  120.0  130.0  140.0  200.0\n",
       "chol      303.0  246.26  51.83  126.0  211.0  240.0  274.5  564.0\n",
       "fbs       303.0    0.15   0.36    0.0    0.0    0.0    0.0    1.0\n",
       "restecg   303.0    0.53   0.53    0.0    0.0    1.0    1.0    2.0\n",
       "thalachh  303.0  149.65  22.91   71.0  133.5  153.0  166.0  202.0\n",
       "exng      303.0    0.33   0.47    0.0    0.0    0.0    1.0    1.0\n",
       "oldpeak   303.0    1.04   1.16    0.0    0.0    0.8    1.6    6.2\n",
       "slp       303.0    1.40   0.62    0.0    1.0    1.0    2.0    2.0\n",
       "caa       303.0    0.73   1.02    0.0    0.0    0.0    1.0    4.0\n",
       "thall     303.0    2.31   0.61    0.0    2.0    2.0    3.0    3.0\n",
       "output    303.0    0.54   0.50    0.0    0.0    1.0    1.0    1.0"
      ]
     },
     "execution_count": 175,
     "metadata": {},
     "output_type": "execute_result"
    }
   ],
   "source": [
    "round(dataset.describe().T , 2)"
   ]
  },
  {
   "cell_type": "code",
   "execution_count": 176,
   "id": "00f18a63",
   "metadata": {},
   "outputs": [
    {
     "data": {
      "text/plain": [
       "age         0\n",
       "sex         0\n",
       "cp          0\n",
       "trtbps      0\n",
       "chol        0\n",
       "fbs         0\n",
       "restecg     0\n",
       "thalachh    0\n",
       "exng        0\n",
       "oldpeak     0\n",
       "slp         0\n",
       "caa         0\n",
       "thall       0\n",
       "output      0\n",
       "dtype: int64"
      ]
     },
     "execution_count": 176,
     "metadata": {},
     "output_type": "execute_result"
    }
   ],
   "source": [
    "dataset.isnull().sum()"
   ]
  },
  {
   "cell_type": "code",
   "execution_count": 177,
   "id": "5fa8b277",
   "metadata": {},
   "outputs": [
    {
     "data": {
      "text/plain": [
       "1"
      ]
     },
     "execution_count": 177,
     "metadata": {},
     "output_type": "execute_result"
    }
   ],
   "source": [
    "dataset.duplicated().sum()"
   ]
  },
  {
   "cell_type": "code",
   "execution_count": 178,
   "id": "bafb8040",
   "metadata": {},
   "outputs": [
    {
     "data": {
      "text/plain": [
       "Index(['age', 'sex', 'cp', 'trtbps', 'chol', 'fbs', 'restecg', 'thalachh',\n",
       "       'exng', 'oldpeak', 'slp', 'caa', 'thall', 'output'],\n",
       "      dtype='object')"
      ]
     },
     "execution_count": 178,
     "metadata": {},
     "output_type": "execute_result"
    }
   ],
   "source": [
    "dataset.columns"
   ]
  },
  {
   "cell_type": "code",
   "execution_count": 179,
   "id": "6f8466ae",
   "metadata": {},
   "outputs": [
    {
     "name": "stdout",
     "output_type": "stream",
     "text": [
      "sex\n",
      "1    207\n",
      "0     96\n",
      "Name: count, dtype: int64\n",
      "---------------------------\n",
      "cp\n",
      "0    143\n",
      "2     87\n",
      "1     50\n",
      "3     23\n",
      "Name: count, dtype: int64\n",
      "---------------------------\n",
      "fbs\n",
      "0    258\n",
      "1     45\n",
      "Name: count, dtype: int64\n",
      "---------------------------\n",
      "restecg\n",
      "1    152\n",
      "0    147\n",
      "2      4\n",
      "Name: count, dtype: int64\n",
      "---------------------------\n",
      "exng\n",
      "0    204\n",
      "1     99\n",
      "Name: count, dtype: int64\n",
      "---------------------------\n",
      "output\n",
      "1    165\n",
      "0    138\n",
      "Name: count, dtype: int64\n",
      "---------------------------\n",
      "thall\n",
      "2    166\n",
      "3    117\n",
      "1     18\n",
      "0      2\n",
      "Name: count, dtype: int64\n",
      "---------------------------\n",
      "caa\n",
      "0    175\n",
      "1     65\n",
      "2     38\n",
      "3     20\n",
      "4      5\n",
      "Name: count, dtype: int64\n",
      "---------------------------\n",
      "slp\n",
      "2    142\n",
      "1    140\n",
      "0     21\n",
      "Name: count, dtype: int64\n",
      "---------------------------\n",
      "output\n",
      "1    165\n",
      "0    138\n",
      "Name: count, dtype: int64\n",
      "---------------------------\n"
     ]
    }
   ],
   "source": [
    "for col in dataset[[\"sex\" , \"cp\" , \"fbs\" ,\"restecg\" , \"exng\" ,\"output\" ,\"thall\" , \"caa\" , \"slp\"  , \"output\"]]:\n",
    "    print(dataset[col].value_counts()) \n",
    "    print(\"---------------------------\")\n",
    "    # اقا پس چرا مقدار فیچر سی پی شد از صفر تا 3 تو توضیحات گفته بودید 1 -4 من مشکلی ندارم از اینکه از صفر شروع میشه ولی خب بهتره بر اساس  توضیح باشه"
   ]
  },
  {
   "cell_type": "markdown",
   "id": "8c3552b5",
   "metadata": {},
   "source": [
    "# Visualization Data"
   ]
  },
  {
   "cell_type": "code",
   "execution_count": 180,
   "id": "5ae2b52d",
   "metadata": {},
   "outputs": [
    {
     "data": {
      "image/png": "[encoded data removed]",
      "text/plain": [
       "<Figure size 432x288 with 1 Axes>"
      ]
     },
     "metadata": {
      "needs_background": "light"
     },
     "output_type": "display_data"
    },
    {
     "data": {
      "image/png": "[encoded data removed]",
      "text/plain": [
       "<Figure size 432x288 with 1 Axes>"
      ]
     },
     "metadata": {
      "needs_background": "light"
     },
     "output_type": "display_data"
    },
    {
     "data": {
      "image/png": "[encoded data removed]",
      "text/plain": [
       "<Figure size 432x288 with 1 Axes>"
      ]
     },
     "metadata": {
      "needs_background": "light"
     },
     "output_type": "display_data"
    },
    {
     "data": {
      "image/png": "[encoded data removed]",
      "text/plain": [
       "<Figure size 432x288 with 1 Axes>"
      ]
     },
     "metadata": {
      "needs_background": "light"
     },
     "output_type": "display_data"
    },
    {
     "data": {
      "image/png": "[encoded data removed]",
      "text/plain": [
       "<Figure size 432x288 with 1 Axes>"
      ]
     },
     "metadata": {
      "needs_background": "light"
     },
     "output_type": "display_data"
    }
   ],
   "source": [
    "Dictionary={\"age\":\"Age\" , \"trtbps\":\"Blood Pressure at rest\" , \"chol\":\"Cholestrol\", \"thalachh\":\"Maximum heart rate\" , \"oldpeak\":\"oldpeak\"}\n",
    "for col in dataset[[\"age\" ,\"trtbps\" ,  \"chol\" , \"thalachh\" , \"oldpeak\"]]:\n",
    "    plt.figure(figsize=(6 , 4))\n",
    "    sns.histplot(x=col, data=dataset , bins=40  , hue=\"output\")\n",
    "    plt.title(f\" {Dictionary[col]} distribution of Heart attack vs not Heart Attack people \")\n",
    "    plt.show()"
   ]
  },
  {
   "cell_type": "code",
   "execution_count": 181,
   "id": "69c80ee8",
   "metadata": {},
   "outputs": [
    {
     "data": {
      "text/plain": [
       "<Figure size 720x576 with 0 Axes>"
      ]
     },
     "metadata": {},
     "output_type": "display_data"
    },
    {
     "data": {
      "image/png": "[encoded data removed]",
      "text/plain": [
       "<Figure size 1122.38x360 with 2 Axes>"
      ]
     },
     "metadata": {
      "needs_background": "light"
     },
     "output_type": "display_data"
    }
   ],
   "source": [
    "cols = [\"sex\", \"cp\", \"fbs\", \"restecg\", \"exng\", \"thall\", \"caa\", \"slp\" ]\n",
    "plt.figure(figsize=(10 , 8))\n",
    "df_long = pd.melt(dataset, id_vars=[\"output\"], value_vars=cols)\n",
    "\n",
    "diagram = sns.catplot( x=\"variable\", hue=\"value\", col=\"output\",data=df_long, kind=\"count\",aspect=1.5)\n",
    "\n",
    "diagram.set_axis_labels(\"Variable\", \"Count\")\n",
    "diagram.set_titles(\"Output {col_name}\")\n",
    "plt.show()\n"
   ]
  },
  {
   "cell_type": "code",
   "execution_count": 182,
   "id": "48e71a3b",
   "metadata": {},
   "outputs": [
    {
     "data": {
      "image/png": "[encoded data removed]",
      "text/plain": [
       "<Figure size 576x432 with 1 Axes>"
      ]
     },
     "metadata": {},
     "output_type": "display_data"
    }
   ],
   "source": [
    "plt.figure(figsize=(8 , 6))\n",
    "labels=[\"Low Risk\" , \"High Risk\"]\n",
    "sizes=[dataset.output.value_counts()[0] ,dataset.output.value_counts()[1]]\n",
    "plt.pie(sizes, labels=labels , autopct='%1.1f%%')\n",
    "plt.title(\" Percentage of people with low risk vs high risk\")\n",
    "plt.axis('off')\n",
    "plt.show()\n",
    "# label data are almost balance "
   ]
  },
  {
   "cell_type": "code",
   "execution_count": 183,
   "id": "5c92d36a",
   "metadata": {},
   "outputs": [
    {
     "data": {
      "image/png": "[encoded data removed]",
      "text/plain": [
       "<Figure size 432x288 with 1 Axes>"
      ]
     },
     "metadata": {
      "needs_background": "light"
     },
     "output_type": "display_data"
    },
    {
     "data": {
      "image/png": "[encoded data removed]",
      "text/plain": [
       "<Figure size 432x288 with 1 Axes>"
      ]
     },
     "metadata": {
      "needs_background": "light"
     },
     "output_type": "display_data"
    },
    {
     "data": {
      "image/png": "[encoded data removed]",
      "text/plain": [
       "<Figure size 432x288 with 1 Axes>"
      ]
     },
     "metadata": {
      "needs_background": "light"
     },
     "output_type": "display_data"
    },
    {
     "data": {
      "image/png": "[encoded data removed]",
      "text/plain": [
       "<Figure size 432x288 with 1 Axes>"
      ]
     },
     "metadata": {
      "needs_background": "light"
     },
     "output_type": "display_data"
    }
   ],
   "source": [
    "Dictionary={\"age\":\"Age\" , \"trtbps\":\"Blood Pressure at rest\" , \"chol\":\"Cholestrol\", \"thalachh\":\"Maximum heart rate\"}\n",
    "for col in dataset[[\"age\" , \"trtbps\" ,  \"chol\" , \"thalachh\"]]:\n",
    "    sns.boxplot(y=col , data=dataset)\n",
    "    plt.xlabel={col}\n",
    "    plt.title(f\"The boxplot of {Dictionary[col]}\")\n",
    "    plt.show()"
   ]
  },
  {
   "cell_type": "code",
   "execution_count": 184,
   "id": "285331a7",
   "metadata": {},
   "outputs": [
    {
     "data": {
      "text/plain": [
       "(303, 14)"
      ]
     },
     "execution_count": 184,
     "metadata": {},
     "output_type": "execute_result"
    }
   ],
   "source": [
    "dataset.shape"
   ]
  },
  {
   "cell_type": "code",
   "execution_count": 185,
   "id": "d9aa09a6",
   "metadata": {},
   "outputs": [
    {
     "data": {
      "text/plain": [
       "<AxesSubplot:>"
      ]
     },
     "execution_count": 185,
     "metadata": {},
     "output_type": "execute_result"
    },
    {
     "data": {
      "image/png": "[encoded data removed]",
      "text/plain": [
       "<Figure size 720x576 with 2 Axes>"
      ]
     },
     "metadata": {
      "needs_background": "light"
     },
     "output_type": "display_data"
    }
   ],
   "source": [
    "plt.figure(figsize=(10 , 8))\n",
    "sns.heatmap(dataset.corr() , annot=True)"
   ]
  },
  {
   "cell_type": "markdown",
   "id": "24297ed6",
   "metadata": {},
   "source": [
    "# Preprocessing"
   ]
  },
  {
   "cell_type": "markdown",
   "id": "284e237f",
   "metadata": {},
   "source": [
    "### Outlier"
   ]
  },
  {
   "cell_type": "code",
   "execution_count": 186,
   "id": "49362f20",
   "metadata": {},
   "outputs": [],
   "source": [
    " def outlier (col):\n",
    "        Q1 = dataset[col].quantile(0.25)\n",
    "        Q3 = dataset[col].quantile(0.75)\n",
    "        IQR = Q3 - Q1\n",
    "        lower = Q1 - 1.5*IQR\n",
    "        upper = Q3 + 1.5*IQR\n",
    "\n",
    "        upper_array = np.where(dataset[col]>=upper)[0]\n",
    "        lower_array = np.where(dataset[col]<=lower)[0]\n",
    "\n",
    "        dataset.drop(index=upper_array, inplace=True)\n",
    "        dataset.drop(index=lower_array, inplace=True)\n",
    " "
   ]
  },
  {
   "cell_type": "code",
   "execution_count": 187,
   "id": "ef863174",
   "metadata": {},
   "outputs": [],
   "source": [
    "for col in [\"age\" ,\"trtbps\" ,  \"chol\" , \"thalachh\" , \"oldpeak\"]:\n",
    "    if '[255] not found in axis':\n",
    "        continue\n",
    "    else :\n",
    "        outlier(col)"
   ]
  },
  {
   "cell_type": "code",
   "execution_count": 188,
   "id": "428a9aba",
   "metadata": {},
   "outputs": [
    {
     "data": {
      "text/plain": [
       "(303, 14)"
      ]
     },
     "execution_count": 188,
     "metadata": {},
     "output_type": "execute_result"
    }
   ],
   "source": [
    "dataset.shape"
   ]
  },
  {
   "cell_type": "code",
   "execution_count": 189,
   "id": "0687f4e9",
   "metadata": {},
   "outputs": [
    {
     "data": {
      "text/plain": [
       "Index(['age', 'sex', 'cp', 'trtbps', 'chol', 'fbs', 'restecg', 'thalachh',\n",
       "       'exng', 'oldpeak', 'slp', 'caa', 'thall', 'output'],\n",
       "      dtype='object')"
      ]
     },
     "execution_count": 189,
     "metadata": {},
     "output_type": "execute_result"
    }
   ],
   "source": [
    "dataset.columns"
   ]
  },
  {
   "cell_type": "markdown",
   "id": "079afdf3",
   "metadata": {},
   "source": [
    "## split_train/test"
   ]
  },
  {
   "cell_type": "code",
   "execution_count": 190,
   "id": "6e8bca4a",
   "metadata": {},
   "outputs": [],
   "source": [
    "y , x =dataset[\"output\"] , dataset.drop(\"output\" , axis=1)"
   ]
  },
  {
   "cell_type": "code",
   "execution_count": 191,
   "id": "928639d7",
   "metadata": {},
   "outputs": [
    {
     "data": {
      "text/plain": [
       "Index(['exng', 'cp', 'oldpeak', 'thalachh', 'caa', 'slp', 'thall'], dtype='object')"
      ]
     },
     "execution_count": 191,
     "metadata": {},
     "output_type": "execute_result"
    }
   ],
   "source": [
    "selector=SelectKBest(score_func=f_regression , k=9)\n",
    "x_selected=selector.fit_transform(x , y)\n",
    "selected_indices=np.argsort(selector.scores_)[::-1][:7]\n",
    "selected_features=x.columns[selected_indices]\n",
    "selected_features"
   ]
  },
  {
   "cell_type": "code",
   "execution_count": 192,
   "id": "6d5660d0",
   "metadata": {},
   "outputs": [],
   "source": [
    "x.drop(columns=['age', 'sex', 'trtbps', 'chol', 'fbs', 'restecg'] , inplace=True)"
   ]
  },
  {
   "cell_type": "code",
   "execution_count": 193,
   "id": "774c91ce",
   "metadata": {},
   "outputs": [],
   "source": [
    "x_train , x_test  , y_train , y_test=train_test_split(x , y , test_size=0.2 , random_state=4)"
   ]
  },
  {
   "cell_type": "code",
   "execution_count": 194,
   "id": "340f9ee0",
   "metadata": {},
   "outputs": [
    {
     "data": {
      "text/html": [
       "<div>\n",
       "<style scoped>\n",
       "    .dataframe tbody tr th:only-of-type {\n",
       "        vertical-align: middle;\n",
       "    }\n",
       "\n",
       "    .dataframe tbody tr th {\n",
       "        vertical-align: top;\n",
       "    }\n",
       "\n",
       "    .dataframe thead th {\n",
       "        text-align: right;\n",
       "    }\n",
       "</style>\n",
       "<table border=\"1\" class=\"dataframe\">\n",
       "  <thead>\n",
       "    <tr style=\"text-align: right;\">\n",
       "      <th></th>\n",
       "      <th>cp</th>\n",
       "      <th>thalachh</th>\n",
       "      <th>exng</th>\n",
       "      <th>oldpeak</th>\n",
       "      <th>slp</th>\n",
       "      <th>caa</th>\n",
       "      <th>thall</th>\n",
       "    </tr>\n",
       "  </thead>\n",
       "  <tbody>\n",
       "    <tr>\n",
       "      <th>100</th>\n",
       "      <td>3</td>\n",
       "      <td>178</td>\n",
       "      <td>0</td>\n",
       "      <td>0.8</td>\n",
       "      <td>2</td>\n",
       "      <td>2</td>\n",
       "      <td>2</td>\n",
       "    </tr>\n",
       "    <tr>\n",
       "      <th>39</th>\n",
       "      <td>2</td>\n",
       "      <td>151</td>\n",
       "      <td>0</td>\n",
       "      <td>0.8</td>\n",
       "      <td>2</td>\n",
       "      <td>0</td>\n",
       "      <td>2</td>\n",
       "    </tr>\n",
       "    <tr>\n",
       "      <th>230</th>\n",
       "      <td>2</td>\n",
       "      <td>152</td>\n",
       "      <td>0</td>\n",
       "      <td>0.0</td>\n",
       "      <td>2</td>\n",
       "      <td>0</td>\n",
       "      <td>2</td>\n",
       "    </tr>\n",
       "    <tr>\n",
       "      <th>185</th>\n",
       "      <td>0</td>\n",
       "      <td>153</td>\n",
       "      <td>0</td>\n",
       "      <td>0.0</td>\n",
       "      <td>2</td>\n",
       "      <td>1</td>\n",
       "      <td>2</td>\n",
       "    </tr>\n",
       "    <tr>\n",
       "      <th>277</th>\n",
       "      <td>1</td>\n",
       "      <td>141</td>\n",
       "      <td>0</td>\n",
       "      <td>0.3</td>\n",
       "      <td>2</td>\n",
       "      <td>0</td>\n",
       "      <td>3</td>\n",
       "    </tr>\n",
       "  </tbody>\n",
       "</table>\n",
       "</div>"
      ],
      "text/plain": [
       "     cp  thalachh  exng  oldpeak  slp  caa  thall\n",
       "100   3       178     0      0.8    2    2      2\n",
       "39    2       151     0      0.8    2    0      2\n",
       "230   2       152     0      0.0    2    0      2\n",
       "185   0       153     0      0.0    2    1      2\n",
       "277   1       141     0      0.3    2    0      3"
      ]
     },
     "execution_count": 194,
     "metadata": {},
     "output_type": "execute_result"
    }
   ],
   "source": [
    "x_train.head()"
   ]
  },
  {
   "cell_type": "code",
   "execution_count": 195,
   "id": "1604f04c",
   "metadata": {},
   "outputs": [],
   "source": [
    "dataset_num=x_train[[\"thalachh\", 'oldpeak' ]]\n",
    "dataset_cat=x_train[[\"cp\", \"exng\" , \"caa\" , 'slp' , 'thall']]"
   ]
  },
  {
   "cell_type": "code",
   "execution_count": 196,
   "id": "de8bbe98",
   "metadata": {},
   "outputs": [],
   "source": [
    "std_list=list(dataset_num)\n",
    "cat_list=list(dataset_cat)"
   ]
  },
  {
   "cell_type": "code",
   "execution_count": 197,
   "id": "46c62565",
   "metadata": {},
   "outputs": [
    {
     "data": {
      "text/plain": [
       "array([[0.82, 0.14, 0.  , 0.  , 0.  , 1.  , 1.  , 0.  , 0.  , 0.  , 1.  ,\n",
       "        0.  , 0.  , 0.  , 0.  , 1.  , 0.  , 0.  , 1.  , 0.  ]])"
      ]
     },
     "execution_count": 197,
     "metadata": {},
     "output_type": "execute_result"
    }
   ],
   "source": [
    "full_pipeline=ColumnTransformer([\n",
    "    (\"std\" , MinMaxScaler() , std_list),\n",
    "    (\"1hot\" ,OneHotEncoder()  , cat_list),\n",
    "])\n",
    "x_train_prepared=full_pipeline.fit_transform(x_train)\n",
    "x_train_prepared[:1]"
   ]
  },
  {
   "cell_type": "markdown",
   "id": "45a922fe",
   "metadata": {},
   "source": [
    "# Model Selection"
   ]
  },
  {
   "cell_type": "code",
   "execution_count": 198,
   "id": "bb8fdc84",
   "metadata": {},
   "outputs": [],
   "source": [
    "sample_data=x_train.iloc[:5]\n",
    "sample_label=y_train[:5]\n",
    "sample_data_pre=full_pipeline.transform(sample_data)"
   ]
  },
  {
   "cell_type": "markdown",
   "id": "b10baed4",
   "metadata": {},
   "source": [
    "## Functions"
   ]
  },
  {
   "cell_type": "code",
   "execution_count": 199,
   "id": "64fb2533",
   "metadata": {},
   "outputs": [],
   "source": [
    "# I picked this code from the IBM course for classification\n",
    "def plot_confusion_matrix(cm, classes,\n",
    "                          normalize=False,\n",
    "                          title='Confusion matrix',\n",
    "                          cmap=plt.cm.Blues):\n",
    "    \"\"\"\n",
    "    This function prints and plots the confusion matrix.\n",
    "    Normalization can be applied by setting `normalize=True`.\n",
    "    \"\"\"\n",
    "    if normalize:\n",
    "        cm = cm.astype('float') / cm.sum(axis=1)[:, np.newaxis]\n",
    "        print(\"Normalized confusion matrix\")\n",
    "    else:\n",
    "        print('Confusion matrix, without normalization')\n",
    "\n",
    "    print(cm)\n",
    "\n",
    "    plt.imshow(cm, interpolation='nearest', cmap=cmap)\n",
    "    plt.title(title)\n",
    "    plt.colorbar()\n",
    "    tick_marks = np.arange(len(classes))\n",
    "    plt.xticks(tick_marks, classes, rotation=45)\n",
    "    plt.yticks(tick_marks, classes)\n",
    "\n",
    "    fmt = '.2f' if normalize else 'd'\n",
    "    thresh = cm.max() / 2.\n",
    "    for i, j in itertools.product(range(cm.shape[0]), range(cm.shape[1])):\n",
    "        plt.text(j, i, format(cm[i, j], fmt),\n",
    "                 horizontalalignment=\"center\",\n",
    "                 color=\"black\" if cm[i, j] > thresh else \"black\")\n",
    "\n",
    "    plt.tight_layout()\n",
    "    plt.ylabel('True label')"
   ]
  },
  {
   "cell_type": "code",
   "execution_count": 200,
   "id": "98f0d66f",
   "metadata": {},
   "outputs": [],
   "source": [
    "def sample_data(model):\n",
    "    print (\"prediction :\" ,  model.predict(sample_data_pre))\n",
    "    print  (\"labels:\" ,  list(sample_label))"
   ]
  },
  {
   "cell_type": "code",
   "execution_count": 201,
   "id": "e1dc1d17",
   "metadata": {},
   "outputs": [],
   "source": [
    "def gridsearchcv(param_grid , model):\n",
    "    \n",
    "    grid = GridSearchCV(model, param_grid, cv=5, scoring='accuracy')\n",
    "    grid_search=grid.fit(x_train_prepared, y_train)\n",
    "    print(\"Best Hyperparameters:\", grid_search.best_params_)\n",
    "    print(\"Best Accuracy:\", grid_search.best_score_)"
   ]
  },
  {
   "cell_type": "markdown",
   "id": "7d264000",
   "metadata": {},
   "source": [
    "### KNN "
   ]
  },
  {
   "cell_type": "code",
   "execution_count": 202,
   "id": "f9185c2f",
   "metadata": {},
   "outputs": [
    {
     "name": "stdout",
     "output_type": "stream",
     "text": [
      "prediction : [1 1 0 0 0]\n",
      "labels: [1, 1, 0, 0, 0]\n"
     ]
    }
   ],
   "source": [
    "knn= KNeighborsClassifier(metric= 'euclidean', n_neighbors= 5, weights='distance', algorithm='ball_tree')\n",
    "knn.fit(x_train_prepared,y_train)\n",
    "sample_data(knn)"
   ]
  },
  {
   "cell_type": "code",
   "execution_count": 203,
   "id": "02740727",
   "metadata": {},
   "outputs": [
    {
     "name": "stdout",
     "output_type": "stream",
     "text": [
      "Precision score: 0.8120300751879699\n",
      "Recall score: 0.8372093023255814\n",
      "fscore score: 0.8244274809160306\n",
      "accuracy score: 0.8099173553719008\n"
     ]
    }
   ],
   "source": [
    "knn_pred = cross_val_predict(knn, x_train_prepared, y_train, cv=5)\n",
    "precision = precision_score(y_train, knn_pred)\n",
    "recall = recall_score(y_train, knn_pred)\n",
    "fscore=f1_score(y_train ,knn_pred )\n",
    "accuracy=accuracy_score(y_train ,knn_pred)\n",
    "print(f\"Precision score: {precision}\")\n",
    "print(f\"Recall score: {recall}\")\n",
    "print(f\"fscore score: {fscore}\")\n",
    "print(f\"accuracy score: {accuracy}\")"
   ]
  },
  {
   "cell_type": "code",
   "execution_count": 204,
   "id": "c4c050da",
   "metadata": {},
   "outputs": [
    {
     "name": "stdout",
     "output_type": "stream",
     "text": [
      "Best Hyperparameters: {'metric': 'euclidean', 'n_neighbors': 3, 'weights': 'uniform'}\n",
      "Best Accuracy: nan\n"
     ]
    }
   ],
   "source": [
    "param_grid_knn = {\n",
    "    'n_neighbors': [3, 5, 7, 9], \n",
    "    'weights': ['uniform', 'distance'], \n",
    "    'metric': ['euclidean', 'manhattan'] \n",
    "}\n",
    "gridsearchcv(param_grid_knn , KNeighborsClassifier() )"
   ]
  },
  {
   "cell_type": "code",
   "execution_count": 205,
   "id": "c213d966",
   "metadata": {},
   "outputs": [
    {
     "name": "stdout",
     "output_type": "stream",
     "text": [
      "              precision    recall  f1-score   support\n",
      "\n",
      "           0       0.81      0.78      0.79       113\n",
      "           1       0.81      0.84      0.82       129\n",
      "\n",
      "    accuracy                           0.81       242\n",
      "   macro avg       0.81      0.81      0.81       242\n",
      "weighted avg       0.81      0.81      0.81       242\n",
      "\n",
      "Confusion matrix, without normalization\n",
      "[[ 88  25]\n",
      " [ 21 108]]\n"
     ]
    },
    {
     "data": {
      "image/png": "[encoded data removed]",
      "text/plain": [
       "<Figure size 432x288 with 2 Axes>"
      ]
     },
     "metadata": {
      "needs_background": "light"
     },
     "output_type": "display_data"
    }
   ],
   "source": [
    "cm=confusion_matrix(y_train, knn_pred)\n",
    "np.set_printoptions(precision=2)\n",
    "print (classification_report(y_train, knn_pred))\n",
    "plt.figure()\n",
    "plot_confusion_matrix(cm, classes=['1','0'],normalize= False,  title='Confusion matrix')"
   ]
  },
  {
   "cell_type": "markdown",
   "id": "7288924b",
   "metadata": {},
   "source": [
    " ### Decision Tree"
   ]
  },
  {
   "cell_type": "code",
   "execution_count": 206,
   "id": "4b32f041",
   "metadata": {},
   "outputs": [
    {
     "name": "stdout",
     "output_type": "stream",
     "text": [
      "prediction : [1 1 1 0 1]\n",
      "labels: [1, 1, 0, 0, 0]\n"
     ]
    }
   ],
   "source": [
    "tree= DecisionTreeClassifier(criterion= 'gini', max_depth =20, max_features='sqrt', min_samples_leaf= 4,min_samples_split=10, random_state=None, splitter='random')\n",
    "tree.fit(x_train_prepared,y_train)\n",
    "sample_data(tree)"
   ]
  },
  {
   "cell_type": "code",
   "execution_count": 207,
   "id": "efe68b45",
   "metadata": {},
   "outputs": [
    {
     "name": "stdout",
     "output_type": "stream",
     "text": [
      "Precision score: 0.7936507936507936\n",
      "Recall score: 0.7751937984496124\n",
      "fscore score: 0.7843137254901961\n",
      "accuracy score: 0.7727272727272727\n"
     ]
    }
   ],
   "source": [
    "tree_pred = cross_val_predict(tree, x_train_prepared, y_train, cv=5)\n",
    "precision = precision_score(y_train, tree_pred)\n",
    "recall = recall_score(y_train, tree_pred)\n",
    "fscore=f1_score(y_train ,tree_pred )\n",
    "accuracy=accuracy_score(y_train ,tree_pred)\n",
    "print(f\"Precision score: {precision}\")\n",
    "print(f\"Recall score: {recall}\")\n",
    "print(f\"fscore score: {fscore}\")\n",
    "print(f\"accuracy score: {accuracy}\")"
   ]
  },
  {
   "cell_type": "code",
   "execution_count": 208,
   "id": "3cc02c72",
   "metadata": {},
   "outputs": [
    {
     "name": "stdout",
     "output_type": "stream",
     "text": [
      "Best Hyperparameters: {'criterion': 'entropy', 'max_depth': 5, 'max_features': 'log2', 'min_samples_leaf': 4, 'min_samples_split': 2, 'random_state': None, 'splitter': 'best'}\n",
      "Best Accuracy: 0.8143707482993197\n"
     ]
    }
   ],
   "source": [
    "param_grid_tree = {\n",
    "    'criterion': ['gini', 'entropy'],\n",
    "    'splitter': ['best', 'random'],\n",
    "    'max_depth': [None, 5, 10, 15, 20],\n",
    "    'min_samples_split': [2, 5, 10],\n",
    "    'min_samples_leaf': [1, 2, 4],\n",
    "    'max_features': [None, 'sqrt', 'log2'],\n",
    "    'random_state': [None, 42]  \n",
    "}\n",
    "gridsearchcv(param_grid_tree , DecisionTreeClassifier())"
   ]
  },
  {
   "cell_type": "code",
   "execution_count": 209,
   "id": "334de822",
   "metadata": {},
   "outputs": [
    {
     "name": "stdout",
     "output_type": "stream",
     "text": [
      "              precision    recall  f1-score   support\n",
      "\n",
      "           0       0.75      0.77      0.76       113\n",
      "           1       0.79      0.78      0.78       129\n",
      "\n",
      "    accuracy                           0.77       242\n",
      "   macro avg       0.77      0.77      0.77       242\n",
      "weighted avg       0.77      0.77      0.77       242\n",
      "\n",
      "Confusion matrix, without normalization\n",
      "[[ 87  26]\n",
      " [ 29 100]]\n"
     ]
    },
    {
     "data": {
      "image/png": "[encoded data removed]",
      "text/plain": [
       "<Figure size 432x288 with 2 Axes>"
      ]
     },
     "metadata": {
      "needs_background": "light"
     },
     "output_type": "display_data"
    }
   ],
   "source": [
    "cm=confusion_matrix(y_train, tree_pred)\n",
    "np.set_printoptions(precision=2)\n",
    "print (classification_report(y_train, tree_pred))\n",
    "plt.figure()\n",
    "plot_confusion_matrix(cm, classes=['1','0'],normalize= False,  title='Confusion matrix')"
   ]
  },
  {
   "cell_type": "markdown",
   "id": "3ac7e1a2",
   "metadata": {},
   "source": [
    "### LogisticRegression"
   ]
  },
  {
   "cell_type": "code",
   "execution_count": 210,
   "id": "84afc9cc",
   "metadata": {},
   "outputs": [
    {
     "name": "stdout",
     "output_type": "stream",
     "text": [
      "prediction : [1 1 1 1 1]\n",
      "labels: [1, 1, 0, 0, 0]\n"
     ]
    }
   ],
   "source": [
    "lr= LogisticRegression(C= 0.1, penalty= 'l2')\n",
    "lr.fit(x_train_prepared,y_train)\n",
    "sample_data(lr)"
   ]
  },
  {
   "cell_type": "code",
   "execution_count": 211,
   "id": "0dfe9c34",
   "metadata": {},
   "outputs": [
    {
     "name": "stdout",
     "output_type": "stream",
     "text": [
      "Precision score: 0.8148148148148148\n",
      "Recall score: 0.8527131782945736\n",
      "fscore score: 0.8333333333333333\n",
      "accuracy score: 0.8181818181818182\n"
     ]
    }
   ],
   "source": [
    "lr_pred = cross_val_predict(lr, x_train_prepared, y_train, cv=5)\n",
    "precision = precision_score(y_train, lr_pred)\n",
    "recall = recall_score(y_train, lr_pred)\n",
    "fscore=f1_score(y_train ,lr_pred )\n",
    "accuracy=accuracy_score(y_train ,lr_pred)\n",
    "print(f\"Precision score: {precision}\")\n",
    "print(f\"Recall score: {recall}\")\n",
    "print(f\"fscore score: {fscore}\")\n",
    "print(f\"accuracy score: {accuracy}\")"
   ]
  },
  {
   "cell_type": "code",
   "execution_count": 212,
   "id": "fae31710",
   "metadata": {},
   "outputs": [
    {
     "name": "stdout",
     "output_type": "stream",
     "text": [
      "Best Hyperparameters: {'C': 0.1, 'penalty': 'l2'}\n",
      "Best Accuracy: 0.818452380952381\n"
     ]
    }
   ],
   "source": [
    "param_grid_lr = {\n",
    "    'penalty': ['l1', 'l2'],\n",
    "    'C': [0.01, 0.1, 1, 10, 100] \n",
    "}\n",
    "gridsearchcv(param_grid_lr , LogisticRegression())"
   ]
  },
  {
   "cell_type": "code",
   "execution_count": 213,
   "id": "376d6381",
   "metadata": {},
   "outputs": [
    {
     "name": "stdout",
     "output_type": "stream",
     "text": [
      "              precision    recall  f1-score   support\n",
      "\n",
      "           0       0.82      0.78      0.80       113\n",
      "           1       0.81      0.85      0.83       129\n",
      "\n",
      "    accuracy                           0.82       242\n",
      "   macro avg       0.82      0.82      0.82       242\n",
      "weighted avg       0.82      0.82      0.82       242\n",
      "\n",
      "Confusion matrix, without normalization\n",
      "[[ 88  25]\n",
      " [ 19 110]]\n"
     ]
    },
    {
     "data": {
      "image/png": "[encoded data removed]",
      "text/plain": [
       "<Figure size 432x288 with 2 Axes>"
      ]
     },
     "metadata": {
      "needs_background": "light"
     },
     "output_type": "display_data"
    }
   ],
   "source": [
    "cm=confusion_matrix(y_train, lr_pred)\n",
    "np.set_printoptions(precision=2)\n",
    "print (classification_report(y_train, lr_pred))\n",
    "plt.figure()\n",
    "plot_confusion_matrix(cm, classes=['1','0'],normalize= False,  title='Confusion matrix')"
   ]
  },
  {
   "cell_type": "markdown",
   "id": "cecaf3c0",
   "metadata": {},
   "source": [
    "### SVC"
   ]
  },
  {
   "cell_type": "code",
   "execution_count": 214,
   "id": "865f6d3f",
   "metadata": {},
   "outputs": [
    {
     "name": "stdout",
     "output_type": "stream",
     "text": [
      "prediction : [1 1 1 1 1]\n",
      "labels: [1, 1, 0, 0, 0]\n"
     ]
    }
   ],
   "source": [
    "svm= SVC(C= 1, gamma= 0.1, kernel='sigmoid')\n",
    "svm.fit(x_train_prepared,y_train)\n",
    "sample_data(svm)"
   ]
  },
  {
   "cell_type": "code",
   "execution_count": 215,
   "id": "5bead681",
   "metadata": {},
   "outputs": [
    {
     "name": "stdout",
     "output_type": "stream",
     "text": [
      "Precision score: 0.8115942028985508\n",
      "Recall score: 0.8682170542635659\n",
      "fscore score: 0.8389513108614233\n",
      "accuracy score: 0.8223140495867769\n"
     ]
    }
   ],
   "source": [
    "svm_pred = cross_val_predict(svm, x_train_prepared, y_train, cv=5)\n",
    "precision = precision_score(y_train, svm_pred)\n",
    "recall = recall_score(y_train, svm_pred)\n",
    "fscore=f1_score(y_train ,svm_pred )\n",
    "accuracy=accuracy_score(y_train ,svm_pred)\n",
    "print(f\"Precision score: {precision}\")\n",
    "print(f\"Recall score: {recall}\")\n",
    "print(f\"fscore score: {fscore}\")\n",
    "print(f\"accuracy score: {accuracy}\")"
   ]
  },
  {
   "cell_type": "code",
   "execution_count": 216,
   "id": "0d9885c0",
   "metadata": {},
   "outputs": [
    {
     "name": "stdout",
     "output_type": "stream",
     "text": [
      "Best Hyperparameters: {'C': 0.1, 'gamma': 1, 'kernel': 'linear'}\n",
      "Best Accuracy: 0.8267857142857142\n"
     ]
    }
   ],
   "source": [
    "param_grid_svm = {'C': [0.1, 1, 10, 100, 1000],  \n",
    "              'gamma': [1, 0.1, 0.01, 0.001, 0.0001], \n",
    "              'kernel': ['linear', 'poly', 'rbf', 'sigmoid'],}  \n",
    "gridsearchcv(param_grid_svm , SVC())"
   ]
  },
  {
   "cell_type": "code",
   "execution_count": 217,
   "id": "074d3d54",
   "metadata": {},
   "outputs": [
    {
     "name": "stdout",
     "output_type": "stream",
     "text": [
      "              precision    recall  f1-score   support\n",
      "\n",
      "           0       0.82      0.78      0.80       113\n",
      "           1       0.81      0.85      0.83       129\n",
      "\n",
      "    accuracy                           0.82       242\n",
      "   macro avg       0.82      0.82      0.82       242\n",
      "weighted avg       0.82      0.82      0.82       242\n",
      "\n",
      "Confusion matrix, without normalization\n",
      "[[ 88  25]\n",
      " [ 19 110]]\n"
     ]
    },
    {
     "data": {
      "image/png": "[encoded data removed]",
      "text/plain": [
       "<Figure size 432x288 with 2 Axes>"
      ]
     },
     "metadata": {
      "needs_background": "light"
     },
     "output_type": "display_data"
    }
   ],
   "source": [
    "cm=confusion_matrix(y_train, lr_pred)\n",
    "np.set_printoptions(precision=2)\n",
    "print (classification_report(y_train, lr_pred))\n",
    "plt.figure()\n",
    "plot_confusion_matrix(cm, classes=['1','0'],normalize= False,  title='Confusion matrix')"
   ]
  },
  {
   "cell_type": "code",
   "execution_count": 218,
   "id": "9d22f806",
   "metadata": {},
   "outputs": [],
   "source": [
    "# it works better on SVM and logistic regression than others "
   ]
  },
  {
   "cell_type": "markdown",
   "id": "9c6aacc3",
   "metadata": {},
   "source": [
    "# Evaluation"
   ]
  },
  {
   "cell_type": "markdown",
   "id": "1df92138",
   "metadata": {},
   "source": [
    "### logistic Regression"
   ]
  },
  {
   "cell_type": "code",
   "execution_count": 219,
   "id": "fbbd0374",
   "metadata": {},
   "outputs": [
    {
     "name": "stdout",
     "output_type": "stream",
     "text": [
      "Precision_Score:0.9411764705882353\n",
      "Recall_Score:0.8888888888888888\n",
      "Accuracy:0.9016393442622951\n"
     ]
    }
   ],
   "source": [
    "x_test_prepared= full_pipeline.transform(x_test)\n",
    "x_test_predict=lr.predict(x_test_prepared)\n",
    "print(f\"Precision_Score:{precision_score(y_test , x_test_predict)}\")\n",
    "print(f\"Recall_Score:{recall_score(y_test , x_test_predict)}\")\n",
    "print(f\"Accuracy:{accuracy_score(y_test , x_test_predict)}\")"
   ]
  },
  {
   "cell_type": "markdown",
   "id": "770d0765",
   "metadata": {},
   "source": [
    "### SVM"
   ]
  },
  {
   "cell_type": "code",
   "execution_count": 220,
   "id": "afbea182",
   "metadata": {},
   "outputs": [
    {
     "name": "stdout",
     "output_type": "stream",
     "text": [
      "Precision_Score:0.9166666666666666\n",
      "Recall_Score:0.9166666666666666\n",
      "Accuracy:0.9016393442622951\n"
     ]
    }
   ],
   "source": [
    "x_test_prepared= full_pipeline.transform(x_test)\n",
    "x_test_predict=svm.predict(x_test_prepared)\n",
    "print(f\"Precision_Score:{precision_score(y_test , x_test_predict)}\")\n",
    "print(f\"Recall_Score:{recall_score(y_test , x_test_predict)}\")\n",
    "print(f\"Accuracy:{accuracy_score(y_test , x_test_predict)}\")"
   ]
  }
 ],
 "metadata": {
  "kernelspec": {
   "display_name": "Python 3",
   "language": "python",
   "name": "python3"
  },
  "language_info": {
   "codemirror_mode": {
    "name": "ipython",
    "version": 3
   },
   "file_extension": ".py",
   "mimetype": "text/x-python",
   "name": "python",
   "nbconvert_exporter": "python",
   "pygments_lexer": "ipython3",
   "version": "3.8.8"
  }
 },
 "nbformat": 4,
 "nbformat_minor": 5
}
